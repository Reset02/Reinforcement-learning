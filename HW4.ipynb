{
  "cells": [
    {
      "cell_type": "markdown",
      "metadata": {
        "id": "ffZtaRz9lIno"
      },
      "source": [
        "#HW4\n"
      ]
    },
    {
      "cell_type": "code",
      "execution_count": 1,
      "metadata": {
        "id": "KbTUcNdskl95"
      },
      "outputs": [],
      "source": [
        "import numpy as np\n",
        "import matplotlib.pyplot as plt\n",
        "import numpy.random as rd"
      ]
    },
    {
      "cell_type": "markdown",
      "metadata": {
        "id": "Fp5UP19C9uke"
      },
      "source": [
        "### Enviroment\n",
        "1. Episode task, $\\gamma$ =1, $\\alpha$=0.1, $\\epsilon$=0.3\n",
        "2. r=-100 if moves into the swamps; all other transitions yield r=-1\n",
        "3. Use 30 simulation runs to estimate the average value \n",
        "4. Environment size is 10x5 \n",
        "5. $S_0$ is (0, 3) and $S_T$ is (9,3) "
      ]
    },
    {
      "cell_type": "markdown",
      "metadata": {
        "id": "mD-3UNiu9qq3"
      },
      "source": [
        "![image.png](data:image/png;base64,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)"
      ]
    },
    {
      "cell_type": "code",
      "execution_count": 2,
      "metadata": {
        "id": "RiiMqVuo0UL7"
      },
      "outputs": [],
      "source": [
        "ACTIONS =np.array([[-1,0],[0,1],[1,0],[0,-1]])#左上右下\n"
      ]
    },
    {
      "cell_type": "code",
      "execution_count": 3,
      "metadata": {
        "id": "TOtvGmce0UL8"
      },
      "outputs": [],
      "source": [
        "# Maintain state with list datatype.\n",
        "def step(state, action):\n",
        "    state_n = (np.array(state) + action).tolist()\n",
        "    \n",
        "    if state_n[0] >= 10 or state_n[0] < 0 or state_n[1] < 0 or state_n[1] >= 5:\n",
        "        state_n = state\n",
        "    \n",
        "    if state_n[1] == 4:\n",
        "        reward = -100\n",
        "    else:\n",
        "        reward = -1\n",
        "    \n",
        "    return state_n, reward"
      ]
    },
    {
      "cell_type": "code",
      "execution_count": 4,
      "metadata": {
        "id": "M5dVfYzG0UL8"
      },
      "outputs": [],
      "source": [
        "def drawTable(data):\n",
        "  fig = plt.figure()\n",
        "  ax = plt.Axes(fig, [0., 0., 1., 1.])\n",
        "  ax.set_axis_off()\n",
        "  fig.add_axes(ax)\n",
        "  plt.gca().invert_yaxis()\n",
        "  for i in range(10):\n",
        "    for j in range(5):\n",
        "      plt.plot((i,i),(j,j+1),'-k')\n",
        "      plt.plot((i,i+1),(j,j+1),'-k')\n",
        "      plt.plot((i,i+1),(j,j),'-k')\n",
        "      plt.plot((i+1,i),(j,j+1),'-k')\n",
        "      plt.plot((i+1,i+1),(j,j+1),'-k')\n",
        "      plt.plot((i,i+1),(j+1,j+1),'-k')\n",
        "      temp = max(data[i][4-j])\n",
        "      if data[i][4-j][0]==temp:\n",
        "        plt.gca().add_patch(plt.Polygon([[i+0.5,j+0.5], [i,j], [i,j+1]], color='yellow'))\n",
        "      if data[i][4-j][1]==temp:\n",
        "        plt.gca().add_patch(plt.Polygon([[i+0.5,j+0.5], [i,j], [i+1,j]], color='yellow'))\n",
        "      if data[i][4-j][2]==temp:\n",
        "        plt.gca().add_patch(plt.Polygon([[i+0.5,j+0.5], [i+1,j], [i+1,j+1]], color='yellow'))\n",
        "      if data[i][4-j][3]==temp:\n",
        "        plt.gca().add_patch(plt.Polygon([[i+0.5,j+0.5], [i,j+1], [i+1,j+1]], color='yellow'))\n",
        "\n",
        "      plt.text(i+0.2,j+0.5,'%.2f' %data[i][4-j][0], verticalalignment='center', horizontalalignment='center')\n",
        "      plt.text(i+0.5,j+0.2,'%.2f' %data[i][4-j][1], verticalalignment='center', horizontalalignment='center')\n",
        "      plt.text(i+0.8,j+0.5,'%.2f' %data[i][4-j][2], verticalalignment='center', horizontalalignment='center')\n",
        "      plt.text(i+0.5,j+0.8,'%.2f' %data[i][4-j][3], verticalalignment='center', horizontalalignment='center')\n",
        "  #from google.colab import files #google.colab only\n",
        "  plt.savefig(\"4.png\")\n",
        "  #files.download(\"3.png\") #google.colab only"
      ]
    },
    {
      "cell_type": "code",
      "execution_count": 18,
      "metadata": {
        "id": "1YUCxCiYqffh"
      },
      "outputs": [],
      "source": [
        "def Q_learning():\n",
        " \n",
        "    returns = []\n",
        "      \n",
        "######## YOUR CODE HERE ########\n",
        "    gamma = 1\n",
        "    alpha = 0.1\n",
        "    epsilon = 0.3\n",
        "    simulate = 2000\n",
        "    s0 = [0,3]\n",
        "    st = [9,3]\n",
        "    q_value = rd.random([10,5,4])\n",
        "    q_value[st[0]][st[1]] = 0\n",
        "    while simulate != 0:\n",
        "      gain = 0\n",
        "      state = s0\n",
        "      while state != st:\n",
        "        action = -1\n",
        "        if rd.random() < epsilon:\n",
        "          action = rd.randint(0,4)\n",
        "        else: \n",
        "          action = np.argmax(q_value[state[0]][state[1]])\n",
        "        next_state, reward = step(state,ACTIONS[action])\n",
        "        q_value[state[0]][state[1]][action] += alpha * (reward + gamma * np.max(q_value[next_state[0]][next_state[1]]) - q_value[state[0]][state[1]][action])\n",
        "        state = next_state\n",
        "        gain+=reward\n",
        "      returns.append(gain)\n",
        "      simulate -= 1\n",
        "####################################\n",
        "    \n",
        "    return returns, q_value"
      ]
    },
    {
      "cell_type": "code",
      "execution_count": 17,
      "metadata": {
        "id": "Jl60uy_3uFeO"
      },
      "outputs": [],
      "source": [
        "def sarsa():\n",
        "  \n",
        "    returns = []\n",
        "  \n",
        "      \n",
        "######## YOUR CODE HERE ########\n",
        "    gamma = 1\n",
        "    alpha = 0.1\n",
        "    epsilon = 0.3\n",
        "    simulate = 2000\n",
        "    s0 = [0, 3]\n",
        "    st = [9, 3]\n",
        "    q_value = rd.random([10,5,4])\n",
        "    q_value[st[0]][st[1]] = 0 \n",
        "    while simulate != 0 :\n",
        "      gain = 0\n",
        "      state = s0\n",
        "      while state != st:\n",
        "        action = -1\n",
        "        if rd.random() < epsilon:\n",
        "          action = rd.randint(0,4)\n",
        "        else: \n",
        "          action = np.argmax(q_value[state[0]][state[1]])\n",
        "        next_state, reward = step(state,ACTIONS[action])\n",
        "        next_action = -1\n",
        "        if rd.random() < epsilon:\n",
        "          next_action = rd.randint(0,4)\n",
        "        else: \n",
        "          next_action = np.argmax(q_value[next_state[0]][next_state[1]])\n",
        "        q_value[state[0]][state[1]][action] += alpha * (reward + gamma *q_value[next_state[0]][next_state[1]][next_action] - q_value[state[0]][state[1]][action])\n",
        "        state = next_state\n",
        "        gain += reward\n",
        "      returns.append(gain)\n",
        "      simulate -= 1\n",
        "   ####################################\n",
        "    \n",
        "    return returns, q_value"
      ]
    },
    {
      "cell_type": "code",
      "execution_count": 7,
      "metadata": {
        "id": "sWCoHdjW0UL-"
      },
      "outputs": [],
      "source": [
        "def episode(q_value):\n",
        "    epsilon = 0.3\n",
        "    s0 = [0, 3]\n",
        "    st = [9, 3]\n",
        "    returns = 0\n",
        "    tra =[]\n",
        "    state = s0\n",
        "    while state != st:\n",
        "      action = -1\n",
        "      if rd.random() < epsilon:\n",
        "          action = rd.randint(0,4)\n",
        "      else: \n",
        "          action = np.argmax(q_value[state[0]][state[1]])\n",
        "      next_state, reward = step(state,ACTIONS[action])\n",
        "      tra.append([state,action,reward])\n",
        "      state = next_state\n",
        "        \n",
        "    return tra"
      ]
    },
    {
      "cell_type": "markdown",
      "metadata": {
        "id": "xVHzqE2B-6fY"
      },
      "source": [
        "# Result(60%):"
      ]
    },
    {
      "cell_type": "markdown",
      "metadata": {
        "id": "Tf8VDvwY-_4F"
      },
      "source": [
        "Average 30 simulation, 2000 episode per simulation."
      ]
    },
    {
      "cell_type": "code",
      "execution_count": 8,
      "metadata": {
        "id": "YVrRqoBLtp75"
      },
      "outputs": [],
      "source": [
        "def averages(a):\n",
        "  return np.array([np.average(a[:i+1]) for i in range(len(a))])"
      ]
    },
    {
      "cell_type": "code",
      "execution_count": 25,
      "metadata": {
        "id": "Z8FotLZh0UL_"
      },
      "outputs": [],
      "source": [
        "def Monte_Carlo():\n",
        "    q_value_table = []\n",
        "    rewards_all = []\n",
        "    for sim in range(5):\n",
        "      q_value = rd.random([10,5,4])\n",
        "      rewards = []\n",
        "      q_value[9][3]=0\n",
        "      for ep in range(2000):\n",
        "        tra = episode(q_value)\n",
        "        gain = 0 \n",
        "        for t in range(len(tra)):\n",
        "          G = 0\n",
        "          for j in range(len(tra)-1,t-1,-1):\n",
        "              G = tra[j][2] + 1 * G\n",
        "          q_value[tra[t][0][0]][tra[t][0][1]][tra[t][1]] = q_value[tra[t][0][0]][tra[t][0][1]][tra[t][1]] + 0.1 * (G - q_value[tra[t][0][0]][tra[t][0][1]][tra[t][1]])\n",
        "          gain += tra[t][2]\n",
        "        rewards.append(gain)\n",
        "      rewards = averages(rewards)\n",
        "      rewards_all.append(rewards)\n",
        "      q_value_table.append(q_value)\n",
        "    t = np.array(rewards_all, dtype=object)\n",
        "    plt.plot(np.average(t, axis = 0),label = 'Monte Carlo')\n",
        "    # Q_value\n",
        "    # drawTable(q_value_table)\n",
        "    # from google.colab import files #google.colab only\n",
        "    # plt.savefig(\"Monte_Carlo.png\")\n",
        "    # files.download(\"Monte_Carlo.png\") #google.colab only\n",
        "    # plt.close()"
      ]
    },
    {
      "cell_type": "code",
      "source": [
        "#Q-learning Q_value and plot reward learning\n",
        "q_reward_all = []\n",
        "average_q_value = []\n",
        "for simulate in range(30):\n",
        "  q_learning_reward, q_value = Q_learning()\n",
        "  q_learning_reward = averages(q_learning_reward)\n",
        "  q_reward_all.append(q_learning_reward)\n",
        "  average_q_value.append(q_value)\n",
        "average_q_value = np.average(average_q_value, axis = 0)\n",
        "drawTable(average_q_value)\n",
        "from google.colab import files #google.colab only\n",
        "plt.savefig(\"Q_learning.png\")\n",
        "files.download(\"Q_learning.png\") #google.colab only\n",
        "plt.close()\n",
        "plt.plot(np.average(q_reward_all,axis=0),label='q_learning')\n",
        "plt.ylim(-3000, 200)\n",
        "plt.legend()\n",
        "plt.show()"
      ],
      "metadata": {
        "colab": {
          "base_uri": "https://localhost:8080/",
          "height": 265
        },
        "id": "hJyIeuCZulXT",
        "outputId": "6f97a359-8c94-49e7-df55-9c51379ef10c"
      },
      "execution_count": 12,
      "outputs": [
        {
          "output_type": "display_data",
          "data": {
            "text/plain": [
              "<IPython.core.display.Javascript object>"
            ],
            "application/javascript": [
              "\n",
              "    async function download(id, filename, size) {\n",
              "      if (!google.colab.kernel.accessAllowed) {\n",
              "        return;\n",
              "      }\n",
              "      const div = document.createElement('div');\n",
              "      const label = document.createElement('label');\n",
              "      label.textContent = `Downloading \"${filename}\": `;\n",
              "      div.appendChild(label);\n",
              "      const progress = document.createElement('progress');\n",
              "      progress.max = size;\n",
              "      div.appendChild(progress);\n",
              "      document.body.appendChild(div);\n",
              "\n",
              "      const buffers = [];\n",
              "      let downloaded = 0;\n",
              "\n",
              "      const channel = await google.colab.kernel.comms.open(id);\n",
              "      // Send a message to notify the kernel that we're ready.\n",
              "      channel.send({})\n",
              "\n",
              "      for await (const message of channel.messages) {\n",
              "        // Send a message to notify the kernel that we're ready.\n",
              "        channel.send({})\n",
              "        if (message.buffers) {\n",
              "          for (const buffer of message.buffers) {\n",
              "            buffers.push(buffer);\n",
              "            downloaded += buffer.byteLength;\n",
              "            progress.value = downloaded;\n",
              "          }\n",
              "        }\n",
              "      }\n",
              "      const blob = new Blob(buffers, {type: 'application/binary'});\n",
              "      const a = document.createElement('a');\n",
              "      a.href = window.URL.createObjectURL(blob);\n",
              "      a.download = filename;\n",
              "      div.appendChild(a);\n",
              "      a.click();\n",
              "      div.remove();\n",
              "    }\n",
              "  "
            ]
          },
          "metadata": {}
        },
        {
          "output_type": "display_data",
          "data": {
            "text/plain": [
              "<IPython.core.display.Javascript object>"
            ],
            "application/javascript": [
              "download(\"download_de2259f0-f7d6-4017-b533-d8c418f4aadf\", \"Q_learning.png\", 79241)"
            ]
          },
          "metadata": {}
        },
        {
          "output_type": "display_data",
          "data": {
            "text/plain": [
              "<Figure size 432x288 with 1 Axes>"
            ],
            "image/png": "[encoded data removed]"
          },
          "metadata": {
            "needs_background": "light"
          }
        }
      ]
    },
    {
      "cell_type": "code",
      "source": [
        "# Sarsa Q_value and plot reward learning\n",
        "sarsa_reward_all = []\n",
        "average_sarsa_value = []\n",
        "for simulate in range(30):\n",
        "  sarsa_reward,sarsa_q_value = sarsa()\n",
        "  sarsa_reward = averages(sarsa_reward)\n",
        "  sarsa_reward_all.append(sarsa_reward)\n",
        "  average_sarsa_value.append(sarsa_q_value)\n",
        "average_s_value = np.average(average_sarsa_value, axis = 0)\n",
        "drawTable(average_s_value)\n",
        "from google.colab import files #google.colab only\n",
        "plt.savefig(\"Sarsa.png\")\n",
        "files.download(\"Sarsa.png\") #google.colab only\n",
        "plt.close()\n",
        "\n",
        "plt.plot(np.average(sarsa_reward_all,axis=0),label='sarsa')\n",
        "plt.ylim(-3000, 200)\n",
        "plt.legend()\n",
        "plt.show()"
      ],
      "metadata": {
        "colab": {
          "base_uri": "https://localhost:8080/",
          "height": 265
        },
        "id": "6QNdRhsTvE6c",
        "outputId": "22491216-54a6-4908-d2af-446991a6ce7d"
      },
      "execution_count": 19,
      "outputs": [
        {
          "output_type": "display_data",
          "data": {
            "text/plain": [
              "<IPython.core.display.Javascript object>"
            ],
            "application/javascript": [
              "\n",
              "    async function download(id, filename, size) {\n",
              "      if (!google.colab.kernel.accessAllowed) {\n",
              "        return;\n",
              "      }\n",
              "      const div = document.createElement('div');\n",
              "      const label = document.createElement('label');\n",
              "      label.textContent = `Downloading \"${filename}\": `;\n",
              "      div.appendChild(label);\n",
              "      const progress = document.createElement('progress');\n",
              "      progress.max = size;\n",
              "      div.appendChild(progress);\n",
              "      document.body.appendChild(div);\n",
              "\n",
              "      const buffers = [];\n",
              "      let downloaded = 0;\n",
              "\n",
              "      const channel = await google.colab.kernel.comms.open(id);\n",
              "      // Send a message to notify the kernel that we're ready.\n",
              "      channel.send({})\n",
              "\n",
              "      for await (const message of channel.messages) {\n",
              "        // Send a message to notify the kernel that we're ready.\n",
              "        channel.send({})\n",
              "        if (message.buffers) {\n",
              "          for (const buffer of message.buffers) {\n",
              "            buffers.push(buffer);\n",
              "            downloaded += buffer.byteLength;\n",
              "            progress.value = downloaded;\n",
              "          }\n",
              "        }\n",
              "      }\n",
              "      const blob = new Blob(buffers, {type: 'application/binary'});\n",
              "      const a = document.createElement('a');\n",
              "      a.href = window.URL.createObjectURL(blob);\n",
              "      a.download = filename;\n",
              "      div.appendChild(a);\n",
              "      a.click();\n",
              "      div.remove();\n",
              "    }\n",
              "  "
            ]
          },
          "metadata": {}
        },
        {
          "output_type": "display_data",
          "data": {
            "text/plain": [
              "<IPython.core.display.Javascript object>"
            ],
            "application/javascript": [
              "download(\"download_65c38b27-80b8-4cdb-bb10-ac3fc7b8b964\", \"Sarsa.png\", 89175)"
            ]
          },
          "metadata": {}
        },
        {
          "output_type": "display_data",
          "data": {
            "text/plain": [
              "<Figure size 432x288 with 1 Axes>"
            ],
            "image/png": "[encoded data removed]"
          },
          "metadata": {
            "needs_background": "light"
          }
        }
      ]
    },
    {
      "cell_type": "code",
      "execution_count": null,
      "metadata": {
        "colab": {
          "background_save": true
        },
        "id": "vr5GGo4QkDt7",
        "outputId": "210864f1-47b8-41db-9356-45008dc3981f"
      },
      "outputs": [
        {
          "data": {
            "image/png": "[encoded data removed]",
            "text/plain": [
              "<Figure size 432x288 with 1 Axes>"
            ]
          },
          "metadata": {},
          "output_type": "display_data"
        }
      ],
      "source": [
        "#Q-learning Q_value and plot reward learning\n",
        "Monte_Carlo()\n",
        "plt.ylim(-3000, 200)\n",
        "plt.legend()\n",
        "plt.show()"
      ]
    },
    {
      "cell_type": "markdown",
      "metadata": {
        "id": "vO5Q-DwawOZq"
      },
      "source": [
        "#Experiments and Analysis(40%)\n",
        "\n",
        "1. Plot the average rewards of Sarsa and Q-learning, and explain your result.(20%)\n",
        "2. Plot the Q-values of Sarsa and Q-learning, and explain your result.(10%)\n",
        "2. Complete Monte Carlo, and compare average rewards.(10%) \n",
        "\n"
      ]
    },
    {
      "cell_type": "code",
      "source": [
        "plot_q_reward = []\n",
        "average_q_value = []\n",
        "plot_s_reward = []\n",
        "average_s_value = []\n",
        "for simulate in range(30):\n",
        "    q_reward,tempQ = Q_learning()\n",
        "    s_reward,tempS = sarsa()\n",
        "    q_reward = averages(q_reward)\n",
        "    s_reward = averages(s_reward)\n",
        "    plot_q_reward.append(q_reward)\n",
        "    average_q_value.append(tempQ)\n",
        "    plot_s_reward.append(s_reward)\n",
        "    average_s_value.append(tempS)\n",
        "    \n",
        "average_q_value = np.average(average_q_value, axis = 0)\n",
        "average_s_value = np.average(average_s_value, axis = 0)\n",
        "plt.plot(np.average(plot_q_reward,axis=0),label='q_learning')\n",
        "plt.plot(np.average(plot_s_reward,axis=0),label='sarsa')\n",
        "plt.ylim(-3000, 200)\n",
        "plt.legend()\n",
        "plt.show()"
      ],
      "metadata": {
        "colab": {
          "base_uri": "https://localhost:8080/",
          "height": 265
        },
        "id": "7KILMVe4Y6N-",
        "outputId": "68bbf2c3-73c0-4445-a570-a7c7aa05e9c3"
      },
      "execution_count": 22,
      "outputs": [
        {
          "output_type": "display_data",
          "data": {
            "text/plain": [
              "<Figure size 432x288 with 1 Axes>"
            ],
            "image/png": "[encoded data removed]"
          },
          "metadata": {
            "needs_background": "light"
          }
        }
      ]
    },
    {
      "cell_type": "code",
      "execution_count": 26,
      "metadata": {
        "colab": {
          "base_uri": "https://localhost:8080/",
          "height": 265
        },
        "id": "nYOQvRkktqj4",
        "outputId": "73e4798b-fdb5-400d-9b53-6fce49622f82",
        "scrolled": false
      },
      "outputs": [
        {
          "output_type": "display_data",
          "data": {
            "text/plain": [
              "<Figure size 432x288 with 1 Axes>"
            ],
            "image/png": "[encoded data removed]"
          },
          "metadata": {
            "needs_background": "light"
          }
        }
      ],
      "source": [
        "\n",
        "plot_q_reward = []\n",
        "average_q_value = []\n",
        "plot_s_reward = []\n",
        "average_s_value = []\n",
        "for simulate in range(10):\n",
        "    q_reward,tempQ = Q_learning()\n",
        "    s_reward,tempS = sarsa()\n",
        "    q_reward = averages(q_reward)\n",
        "    s_reward = averages(s_reward)\n",
        "    plot_q_reward.append(q_reward)\n",
        "    average_q_value.append(tempQ)\n",
        "    plot_s_reward.append(s_reward)\n",
        "    average_s_value.append(tempS)\n",
        "    \n",
        "average_q_value = np.average(average_q_value, axis = 0)\n",
        "average_s_value = np.average(average_s_value, axis = 0)\n",
        "Monte_Carlo()\n",
        "plt.plot(np.average(plot_q_reward,axis=0),label='q_learning')\n",
        "plt.plot(np.average(plot_s_reward,axis=0),label='sarsa')\n",
        "plt.ylim(-3000, 200)\n",
        "plt.legend()\n",
        "plt.show()\n"
      ]
    }
  ],
  "metadata": {
    "colab": {
      "collapsed_sections": [],
      "provenance": []
    },
    "kernelspec": {
      "display_name": "Python 3 (ipykernel)",
      "language": "python",
      "name": "python3"
    },
    "language_info": {
      "codemirror_mode": {
        "name": "ipython",
        "version": 3
      },
      "file_extension": ".py",
      "mimetype": "text/x-python",
      "name": "python",
      "nbconvert_exporter": "python",
      "pygments_lexer": "ipython3",
      "version": "3.9.12"
    }
  },
  "nbformat": 4,
  "nbformat_minor": 0
}